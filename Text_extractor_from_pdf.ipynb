{
  "nbformat": 4,
  "nbformat_minor": 0,
  "metadata": {
    "colab": {
      "provenance": []
    },
    "kernelspec": {
      "name": "python3",
      "display_name": "Python 3"
    },
    "language_info": {
      "name": "python"
    }
  },
  "cells": [
    {
      "cell_type": "code",
      "execution_count": null,
      "metadata": {
        "colab": {
          "base_uri": "https://localhost:8080/"
        },
        "id": "Pj97BpIFr4e3",
        "outputId": "03b4c732-ed2b-4182-ae5b-bb8cd7736087"
      },
      "outputs": [
        {
          "output_type": "stream",
          "name": "stdout",
          "text": [
            "Looking in indexes: https://pypi.org/simple, https://us-python.pkg.dev/colab-wheels/public/simple/\n",
            "Collecting PyPDF2\n",
            "  Downloading PyPDF2-2.11.0-py3-none-any.whl (220 kB)\n",
            "\u001b[K     |████████████████████████████████| 220 kB 11.0 MB/s \n",
            "\u001b[?25hRequirement already satisfied: typing-extensions>=3.10.0.0 in /usr/local/lib/python3.7/dist-packages (from PyPDF2) (4.1.1)\n",
            "Installing collected packages: PyPDF2\n",
            "Successfully installed PyPDF2-2.11.0\n"
          ]
        }
      ],
      "source": [
        "\n",
        "pip install PyPDF2"
      ]
    },
    {
      "cell_type": "code",
      "source": [
        "import PyPDF2"
      ],
      "metadata": {
        "id": "Bzfjenvvr5Sq"
      },
      "execution_count": null,
      "outputs": []
    },
    {
      "cell_type": "code",
      "source": [
        "#create file object\n",
        "\n",
        "pdf_file = open('/content/RICHARDSON, BRIANA.PDF','rb')\n"
      ],
      "metadata": {
        "id": "nibxWYGIr5ZM"
      },
      "execution_count": null,
      "outputs": []
    },
    {
      "cell_type": "code",
      "source": [
        "#create a pdf reader object\n",
        "\n",
        "pdf_reader = PyPDF2.PdfFileReader(pdf_file)"
      ],
      "metadata": {
        "id": "AGHZG4e1r5bb"
      },
      "execution_count": null,
      "outputs": []
    },
    {
      "cell_type": "code",
      "source": [
        "# printing number of pages in pdf\n",
        "print(pdf_reader.numPages)"
      ],
      "metadata": {
        "colab": {
          "base_uri": "https://localhost:8080/"
        },
        "id": "9-SjFl-Ar5ed",
        "outputId": "c1bc1556-3352-4bb7-ffc8-f9592032b000"
      },
      "execution_count": null,
      "outputs": [
        {
          "output_type": "stream",
          "name": "stdout",
          "text": [
            "12\n"
          ]
        }
      ]
    },
    {
      "cell_type": "code",
      "source": [
        "# create a page object\n",
        "page_object=pdf_reader.getPage(1)"
      ],
      "metadata": {
        "id": "TK_A0HxFucjz"
      },
      "execution_count": null,
      "outputs": []
    },
    {
      "cell_type": "code",
      "source": [
        "page_object"
      ],
      "metadata": {
        "colab": {
          "base_uri": "https://localhost:8080/"
        },
        "id": "4R0lIrvvu9oG",
        "outputId": "d6746cc7-9887-4fbb-d8ef-d66183068c19"
      },
      "execution_count": null,
      "outputs": [
        {
          "output_type": "execute_result",
          "data": {
            "text/plain": [
              "{'/Type': '/Page',\n",
              " '/MediaBox': [0, 0, 788.04, 614.16],\n",
              " '/Parent': {'/Type': '/Pages',\n",
              "  '/Count': 12,\n",
              "  '/Kids': [IndirectObject(4, 0, 139811818745424),\n",
              "   IndirectObject(9, 0, 139811818745424),\n",
              "   IndirectObject(14, 0, 139811818745424),\n",
              "   IndirectObject(19, 0, 139811818745424),\n",
              "   IndirectObject(24, 0, 139811818745424),\n",
              "   IndirectObject(29, 0, 139811818745424),\n",
              "   IndirectObject(34, 0, 139811818745424),\n",
              "   IndirectObject(39, 0, 139811818745424),\n",
              "   IndirectObject(44, 0, 139811818745424),\n",
              "   IndirectObject(49, 0, 139811818745424),\n",
              "   IndirectObject(54, 0, 139811818745424),\n",
              "   IndirectObject(59, 0, 139811818745424)]},\n",
              " '/Contents': [IndirectObject(10, 0, 139811818745424)],\n",
              " '/Resources': {'/XObject': {'/IOP2': {'/Type': '/Xobject',\n",
              "    '/Subtype': '/Image',\n",
              "    '/Name': '/IOP2',\n",
              "    '/Width': 2189,\n",
              "    '/Height': 1706,\n",
              "    '/BitsPerComponent': 1,\n",
              "    '/ColorSpace': '/DeviceGray',\n",
              "    '/Filter': '/CCITTFaxDecode',\n",
              "    '/DecodeParms': {'/K': -1, '/Columns': 2189, '/Rows': 1706}}},\n",
              "  '/ProcSet': ['/PDF', '/ImageB', '/Text']}}"
            ]
          },
          "metadata": {},
          "execution_count": 18
        }
      ]
    },
    {
      "cell_type": "code",
      "source": [
        "# extract text from pages\n",
        "print(page_object.extractText())"
      ],
      "metadata": {
        "colab": {
          "base_uri": "https://localhost:8080/"
        },
        "id": "1F-CmdD2r5fm",
        "outputId": "695fc096-84d3-4061-f52e-b21efbbe0a1d"
      },
      "execution_count": null,
      "outputs": [
        {
          "output_type": "stream",
          "name": "stdout",
          "text": [
            "\n"
          ]
        }
      ]
    },
    {
      "cell_type": "code",
      "source": [
        "pdf_file.close()"
      ],
      "metadata": {
        "colab": {
          "base_uri": "https://localhost:8080/"
        },
        "id": "VbsPF_q_vLTQ",
        "outputId": "285ba9b2-6c46-4270-ed5b-3b7af98a71b5"
      },
      "execution_count": null,
      "outputs": [
        {
          "output_type": "execute_result",
          "data": {
            "text/plain": [
              "{'/Type': '/Page',\n",
              " '/MediaBox': [0, 0, 786.96, 613.44],\n",
              " '/Parent': {'/Type': '/Pages',\n",
              "  '/Count': 12,\n",
              "  '/Kids': [IndirectObject(4, 0, 139811818745424),\n",
              "   IndirectObject(9, 0, 139811818745424),\n",
              "   IndirectObject(14, 0, 139811818745424),\n",
              "   IndirectObject(19, 0, 139811818745424),\n",
              "   IndirectObject(24, 0, 139811818745424),\n",
              "   IndirectObject(29, 0, 139811818745424),\n",
              "   IndirectObject(34, 0, 139811818745424),\n",
              "   IndirectObject(39, 0, 139811818745424),\n",
              "   IndirectObject(44, 0, 139811818745424),\n",
              "   IndirectObject(49, 0, 139811818745424),\n",
              "   IndirectObject(54, 0, 139811818745424),\n",
              "   IndirectObject(59, 0, 139811818745424)]},\n",
              " '/Contents': [IndirectObject(55, 0, 139811818745424)],\n",
              " '/Resources': {'/XObject': {'/IOP11': {'/Type': '/Xobject',\n",
              "    '/Subtype': '/Image',\n",
              "    '/Name': '/IOP11',\n",
              "    '/Width': 2186,\n",
              "    '/Height': 1704,\n",
              "    '/BitsPerComponent': 1,\n",
              "    '/ColorSpace': '/DeviceGray',\n",
              "    '/Filter': '/CCITTFaxDecode',\n",
              "    '/DecodeParms': {'/K': -1, '/Columns': 2186, '/Rows': 1704}}},\n",
              "  '/ProcSet': ['/PDF', '/ImageB', '/Text']}}"
            ]
          },
          "metadata": {},
          "execution_count": 16
        }
      ]
    },
    {
      "cell_type": "code",
      "source": [
        "# closing the pdf file object\n",
        "pdf_file.close()"
      ],
      "metadata": {
        "id": "FfnSPFV-r5ii"
      },
      "execution_count": null,
      "outputs": []
    },
    {
      "cell_type": "code",
      "source": [],
      "metadata": {
        "id": "pHrBPmbmr5kF"
      },
      "execution_count": null,
      "outputs": []
    },
    {
      "cell_type": "code",
      "source": [],
      "metadata": {
        "id": "4vBw8JRar5n3"
      },
      "execution_count": null,
      "outputs": []
    },
    {
      "cell_type": "code",
      "source": [],
      "metadata": {
        "id": "7fXiKoqpr5pU"
      },
      "execution_count": null,
      "outputs": []
    },
    {
      "cell_type": "code",
      "source": [],
      "metadata": {
        "id": "TzQ5dCH6r5tL"
      },
      "execution_count": null,
      "outputs": []
    },
    {
      "cell_type": "code",
      "source": [],
      "metadata": {
        "id": "2yKTh-d8r5uZ"
      },
      "execution_count": null,
      "outputs": []
    },
    {
      "cell_type": "code",
      "source": [],
      "metadata": {
        "id": "xHFGOSvmr5x2"
      },
      "execution_count": null,
      "outputs": []
    },
    {
      "cell_type": "code",
      "source": [],
      "metadata": {
        "id": "H0wX9THOr5zT"
      },
      "execution_count": null,
      "outputs": []
    },
    {
      "cell_type": "code",
      "source": [],
      "metadata": {
        "id": "KcCs_TCjr52i"
      },
      "execution_count": null,
      "outputs": []
    },
    {
      "cell_type": "code",
      "source": [],
      "metadata": {
        "id": "HbznT9edr54B"
      },
      "execution_count": null,
      "outputs": []
    },
    {
      "cell_type": "code",
      "source": [],
      "metadata": {
        "id": "IZRx58Isr57P"
      },
      "execution_count": null,
      "outputs": []
    },
    {
      "cell_type": "code",
      "source": [],
      "metadata": {
        "id": "ponlmXW3r58j"
      },
      "execution_count": null,
      "outputs": []
    },
    {
      "cell_type": "code",
      "source": [],
      "metadata": {
        "id": "mT3pU9qtr5_Z"
      },
      "execution_count": null,
      "outputs": []
    },
    {
      "cell_type": "code",
      "source": [],
      "metadata": {
        "id": "3Z1AKT7jr6CN"
      },
      "execution_count": null,
      "outputs": []
    }
  ]
}